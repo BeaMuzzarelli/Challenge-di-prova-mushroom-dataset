{
 "cells": [
  {
   "cell_type": "code",
   "execution_count": 4,
   "metadata": {},
   "outputs": [
    {
     "name": "stdout",
     "output_type": "stream",
     "text": [
      "Test set score: 1.00\n"
     ]
    }
   ],
   "source": [
    "#importo la libreria sklearn che servirà per istruire il nostro modello\n",
    "import sklearn\n",
    "#importo la libreria pandas che servirà per leggere i dati\n",
    "import pandas\n",
    "import numpy\n",
    "\n",
    "#leggo i dati di training\n",
    "f1 = pandas.read_csv('train.csv')\n",
    "#leggo i dati di test\n",
    "f2 = pandas.read_csv('test.csv')\n",
    "\n",
    "#separo i dati dal \"risultato\" per quanto riguarda i dati di training\n",
    "dati_training_stringa = f1.iloc[:, 1::]\n",
    "target_training = f1.iloc[:, 0]\n",
    "\n",
    "#separo i dati dal \"risultato\" per quanto riguarda i dati di test\n",
    "dati_test_stringa = f2.iloc[:, 1::]\n",
    "target_test = f2.iloc[:, 0]\n",
    "\n",
    "#utilizzo l'algoritmo nearest-neighbor\n",
    "from sklearn.neighbors import KNeighborsClassifier\n",
    "knn = KNeighborsClassifier(n_neighbors = 1)\n",
    "\n",
    "#per addestrare il modello utilizzerò la funzione fit, tuttavia vuole solo valori interi, per cui prima trasformo i dati in \n",
    "#valori numerici\n",
    "dati_training = dati_training_stringa.to_numpy()\n",
    "from sklearn.preprocessing import LabelEncoder\n",
    "from numpy import array\n",
    "label_encoder = LabelEncoder()\n",
    "for riga in range(0, len(dati_training)):\n",
    "    dati_training[riga] = label_encoder.fit_transform(array(dati_training[riga]))\n",
    "\n",
    "#ora posso addestrare il modello\n",
    "knn.fit(dati_training, target_training)\n",
    "\n",
    "#per valutare il modello, prima trasformo i dati in valori numerici, nello stesso modo di prima e poi eseguo la valutazione\n",
    "dati_test = dati_test_stringa.to_numpy()\n",
    "l_encoder = LabelEncoder()\n",
    "for row in range(0, len(dati_test)):\n",
    "    dati_test[row] = l_encoder.fit_transform(array(dati_test[row]))\n",
    "\n",
    "#ora posso valutare il modello\n",
    "print(\"Test set score: {:.2f}\".format(knn.score(dati_test, target_test)))"
   ]
  },
  {
   "cell_type": "code",
   "execution_count": null,
   "metadata": {},
   "outputs": [],
   "source": []
  },
  {
   "cell_type": "code",
   "execution_count": null,
   "metadata": {},
   "outputs": [],
   "source": []
  },
  {
   "cell_type": "code",
   "execution_count": null,
   "metadata": {},
   "outputs": [],
   "source": []
  }
 ],
 "metadata": {
  "kernelspec": {
   "display_name": "Python 3",
   "language": "python",
   "name": "python3"
  },
  "language_info": {
   "codemirror_mode": {
    "name": "ipython",
    "version": 3
   },
   "file_extension": ".py",
   "mimetype": "text/x-python",
   "name": "python",
   "nbconvert_exporter": "python",
   "pygments_lexer": "ipython3",
   "version": "3.8.5"
  }
 },
 "nbformat": 4,
 "nbformat_minor": 4
}
