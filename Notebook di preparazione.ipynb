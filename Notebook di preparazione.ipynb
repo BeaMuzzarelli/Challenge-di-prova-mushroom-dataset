{
 "cells": [
  {
   "cell_type": "code",
   "execution_count": 1,
   "metadata": {},
   "outputs": [],
   "source": [
    "#importo la libreria pandas, vista a lezione, che permette di leggere e scrivere con semplicità i file csv\n",
    "import pandas\n",
    "#importo la libreria sklearn, vista a lezione, che mi aiuterà a separare i dati negli insiemi di training e test\n",
    "import sklearn\n",
    "\n",
    "#leggo il file csv utilizzando la libreria pandas\n",
    "f = pandas.read_csv('mushrooms.partial.csv')\n",
    "\n",
    "#separo i dati tra quelli di training e quelli di test utilizzando una funzione vista a lezione\n",
    "from sklearn.model_selection import train_test_split\n",
    "train, test = train_test_split(f)\n",
    "\n",
    "#scrivo il file train.csv contenente i dati di train e il file test.csv contenente i dati di test utilizzando la libreria pandas\n",
    "train.to_csv('train.csv')\n",
    "test.to_csv('test.csv')"
   ]
  },
  {
   "cell_type": "code",
   "execution_count": 2,
   "metadata": {},
   "outputs": [
    {
     "name": "stdout",
     "output_type": "stream",
     "text": [
      "F shape (6499, 23)\n",
      "Train shape (4874, 23)\n",
      "Test shape (1625, 23)\n"
     ]
    }
   ],
   "source": []
  },
  {
   "cell_type": "code",
   "execution_count": null,
   "metadata": {},
   "outputs": [],
   "source": []
  }
 ],
 "metadata": {
  "kernelspec": {
   "display_name": "Python 3",
   "language": "python",
   "name": "python3"
  },
  "language_info": {
   "codemirror_mode": {
    "name": "ipython",
    "version": 3
   },
   "file_extension": ".py",
   "mimetype": "text/x-python",
   "name": "python",
   "nbconvert_exporter": "python",
   "pygments_lexer": "ipython3",
   "version": "3.8.5"
  }
 },
 "nbformat": 4,
 "nbformat_minor": 4
}
